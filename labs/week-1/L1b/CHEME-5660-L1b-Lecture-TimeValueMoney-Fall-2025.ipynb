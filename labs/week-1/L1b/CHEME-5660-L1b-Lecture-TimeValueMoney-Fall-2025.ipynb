<!doctype html><html lang="en"><head><meta charset="utf-8"><title>JupyterLab</title><meta name="viewport" content="width=device-width,initial-scale=1">   <script id="jupyter-config-data" type="application/json">{"allow_hidden_files": false, "appName": "JupyterLab", "appNamespace": "lab", "appSettingsDir": "/Users/ivysid/.julia/conda/3/x86_64/share/jupyter/lab/settings", "appUrl": "/lab", "appVersion": "4.4.4", "baseUrl": "/", "buildAvailable": true, "buildCheck": true, "cacheFiles": false, "copyAbsolutePath": false, "delete_to_trash": true, "devMode": false, "disabledExtensions": [], "exposeAppInBrowser": false, "extensionManager": {"can_install": true, "install_path": "/Users/ivysid/.julia/conda/3/x86_64", "name": "PyPI"}, "extraLabextensionsPath": [], "federated_extensions": [{"entrypoints": null, "extension": "./extension", "load": "static/remoteEntry.5cbb9d2323598fbda535.js", "name": "jupyterlab_pygments", "style": "./style"}], "fullAppUrl": "/lab", "fullLabextensionsUrl": "/lab/extensions", "fullLicensesUrl": "/lab/api/licenses", "fullListingsUrl": "/lab/api/listings", "fullMathjaxUrl": "https://cdnjs.cloudflare.com/ajax/libs/mathjax/2.7.7/MathJax.js", "fullSettingsUrl": "/lab/api/settings", "fullStaticUrl": "/static/lab", "fullThemesUrl": "/lab/api/themes", "fullTranslationsApiUrl": "/lab/api/translations", "fullTreeUrl": "/lab/tree", "fullWorkspacesApiUrl": "/lab/api/workspaces", "ignorePlugins": [], "labextensionsPath": ["/Users/ivysid/Library/Jupyter/labextensions", "/Users/ivysid/.local/share/jupyter/labextensions", "/Users/ivysid/.julia/conda/3/x86_64/share/jupyter/labextensions", "/usr/local/share/jupyter/labextensions", "/usr/share/jupyter/labextensions"], "labextensionsUrl": "/lab/extensions", "licensesUrl": "/lab/api/licenses", "listingsUrl": "/lab/api/listings", "mathjaxConfig": "TeX-AMS_HTML-full,Safe", "mode": "multiple-document", "news": {"disabled": false}, "notebookStartsKernel": true, "notebookVersion": "[2, 16, 0]", "preferredPath": "/", "quitButton": true, "rootUri": "file:///Users/ivysid/Documents/GitHub/CHEME-5800-Labs-Fall-2025/labs/week-1/L1b", "schemasDir": "/Users/ivysid/.julia/conda/3/x86_64/share/jupyter/lab/schemas", "serverRoot": "~/Documents/GitHub/CHEME-5800-Labs-Fall-2025/labs/week-1/L1b", "settingsUrl": "/lab/api/settings", "staticDir": "/Users/ivysid/.julia/conda/3/x86_64/share/jupyter/lab/static", "store_id": 1, "templatesDir": "/Users/ivysid/.julia/conda/3/x86_64/share/jupyter/lab/static", "terminalsAvailable": true, "themesDir": "/Users/ivysid/.julia/conda/3/x86_64/share/jupyter/lab/themes", "themesUrl": "/lab/api/themes", "token": "658a05fb5cfc0259d51f9be1b4fb15cb2baed4d616098bd1", "translationsApiUrl": "/lab/api/translations", "treePath": "lectures/week-1/L1b/CHEME-5660-L1b-Lecture-TimeValueMoney-Fall-2025.ipynb", "treeUrl": "/lab/tree", "userSettingsDir": "/Users/ivysid/.jupyter/lab/user-settings", "virtualDocumentsUri": "file:///Users/ivysid/Documents/GitHub/CHEME-5800-Labs-Fall-2025/labs/week-1/L1b/.virtual_documents", "workspace": "default", "workspacesApiUrl": "/lab/api/workspaces", "workspacesDir": "/Users/ivysid/.jupyter/lab/workspaces", "wsUrl": ""}</script><link rel="icon" type="image/x-icon" href="/static/favicons/favicon.ico" class="idle favicon"><link rel="" type="image/x-icon" href="/static/favicons/favicon-busy-1.ico" class="busy favicon"> <script defer="defer" src="/static/lab/main.e0ad11baf75be894f6f6.js?v=e0ad11baf75be894f6f6"></script></head><body class="jp-ThemedContainer"><script>/* Remove token from URL. */
  (function () {
    var location = window.location;
    var search = location.search;

    // If there is no query string, bail.
    if (search.length <= 1) {
      return;
    }

    // Rebuild the query string without the `token`.
    var query = '?' + search.slice(1).split('&')
      .filter(function (param) { return param.split('=')[0] !== 'token'; })
      .join('&');

    // Rebuild the URL with the new query string.
    var url = location.origin + location.pathname +
      (query !== '?' ? query : '') + location.hash;

    if (url === location.href) {
      return;
    }

    window.history.replaceState({ }, '', url);
  })();</script></body></html>